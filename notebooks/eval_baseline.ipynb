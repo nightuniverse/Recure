{
  "cells": [
    {
      "cell_type": "markdown",
      "metadata": {},
      "source": [
        "# 약물 재목적화 시스템 평가\n",
        "\n",
        "이 노트북은 약물 재목적화 시스템의 기본 성능을 평가합니다.\n",
        "\n",
        "## 평가 방법\n",
        "- Leave-one-out 평가: 알려진 약물-질병 관계를 하나씩 숨기고 시스템이 이를 복구할 수 있는지 테스트\n",
        "- Hit@K 메트릭: 상위 K개 후보 중에 실제 약물이 포함되는 비율\n"
      ]
    },
    {
      "cell_type": "code",
      "execution_count": null,
      "metadata": {},
      "outputs": [],
      "source": [
        "import sys\n",
        "import os\n",
        "import pandas as pd\n",
        "import numpy as np\n",
        "from typing import List, Dict, Tuple\n",
        "import matplotlib.pyplot as plt\n",
        "import seaborn as sns\n",
        "\n",
        "# 프로젝트 루트를 Python 경로에 추가\n",
        "sys.path.append(os.path.dirname(os.path.dirname(os.path.abspath(__file__))))\n",
        "\n",
        "from src.service import RepurposeService\n",
        "from src.data_loader import DataLoader\n"
      ]
    },
    {
      "cell_type": "markdown",
      "metadata": {},
      "source": [
        "## 1. 데이터 로드 및 서비스 초기화\n"
      ]
    },
    {
      "cell_type": "code",
      "execution_count": null,
      "metadata": {},
      "outputs": [],
      "source": [
        "# 서비스 초기화\n",
        "service = RepurposeService(\"data\")\n",
        "service.initialize()\n",
        "\n",
        "print(\"서비스 초기화 완료\")\n",
        "print(f\"약물 수: {len(service.get_all_drugs())}\")\n",
        "print(f\"질병 수: {len(service.get_all_diseases())}\")\n",
        "\n",
        "# 알려진 약물-질병 관계 확인\n",
        "data_loader = service.data_loader\n",
        "known_relations = data_loader.drug_disease_df\n",
        "print(f\"\\n알려진 약물-질병 관계 수: {len(known_relations)}\")\n",
        "print(\"\\n알려진 관계들:\")\n",
        "for _, row in known_relations.iterrows():\n",
        "    drug = data_loader.get_drug_by_id(row['drug_id'])\n",
        "    disease = data_loader.get_disease_by_id(row['disease_id'])\n",
        "    print(f\"- {drug['drug_name']} → {disease['disease_name']} ({row['evidence']})\")\n"
      ]
    },
    {
      "cell_type": "markdown",
      "metadata": {},
      "source": [
        "## 2. Leave-one-out 평가 함수\n"
      ]
    },
    {
      "cell_type": "code",
      "execution_count": null,
      "metadata": {},
      "outputs": [],
      "source": [
        "def leave_one_out_evaluation(service: RepurposeService, k_values: List[int] = [1, 3, 5, 10]) -> Dict:\n",
        "    \"\"\"\n",
        "    Leave-one-out 평가를 수행합니다.\n",
        "    \n",
        "    Args:\n",
        "        service: RepurposeService 인스턴스\n",
        "        k_values: 평가할 K 값들\n",
        "        \n",
        "    Returns:\n",
        "        평가 결과 딕셔너리\n",
        "    \"\"\"\n",
        "    data_loader = service.data_loader\n",
        "    known_relations = data_loader.drug_disease_df\n",
        "    \n",
        "    results = {}\n",
        "    \n",
        "    for k in k_values:\n",
        "        hits = 0\n",
        "        total_tests = 0\n",
        "        test_details = []\n",
        "        \n",
        "        print(f\"\\n=== K={k} 평가 중 ===\")\n",
        "        \n",
        "        for idx, row in known_relations.iterrows():\n",
        "            drug_id = row['drug_id']\n",
        "            disease_id = row['disease_id']\n",
        "            \n",
        "            # 해당 관계를 임시로 제거\n",
        "            original_df = data_loader.drug_disease_df.copy()\n",
        "            data_loader.drug_disease_df = data_loader.drug_disease_df.drop(idx)\n",
        "            \n",
        "            # 그래프 재구축\n",
        "            service.graph_builder.build_graph()\n",
        "            \n",
        "            # 질병 이름으로 랭킹 수행\n",
        "            disease = data_loader.get_disease_by_id(disease_id)\n",
        "            disease_name = disease['disease_name']\n",
        "            \n",
        "            try:\n",
        "                rankings = service.rank_for_disease(disease_name, top_k=k)\n",
        "                \n",
        "                # 상위 K개에 해당 약물이 있는지 확인\n",
        "                ranked_drug_ids = [r['drug_id'] for r in rankings]\n",
        "                hit = drug_id in ranked_drug_ids\n",
        "                \n",
        "                if hit:\n",
        "                    hits += 1\n",
        "                    rank = ranked_drug_ids.index(drug_id) + 1\n",
        "                else:\n",
        "                    rank = None\n",
        "                \n",
        "                test_details.append({\n",
        "                    'drug_id': drug_id,\n",
        "                    'disease_id': disease_id,\n",
        "                    'drug_name': data_loader.get_drug_by_id(drug_id)['drug_name'],\n",
        "                    'disease_name': disease_name,\n",
        "                    'hit': hit,\n",
        "                    'rank': rank,\n",
        "                    'total_candidates': len(rankings)\n",
        "                })\n",
        "                \n",
        "                total_tests += 1\n",
        "                \n",
        "                print(f\"  {data_loader.get_drug_by_id(drug_id)['drug_name']} → {disease_name}: {'HIT' if hit else 'MISS'} (rank: {rank})\")\n",
        "                \n",
        "            except Exception as e:\n",
        "                print(f\"  오류 발생: {drug_id} → {disease_id}: {e}\")\n",
        "                \n",
        "            finally:\n",
        "                # 원본 데이터 복원\n",
        "                data_loader.drug_disease_df = original_df\n",
        "        \n",
        "        hit_rate = hits / total_tests if total_tests > 0 else 0\n",
        "        results[k] = {\n",
        "            'hit_rate': hit_rate,\n",
        "            'hits': hits,\n",
        "            'total_tests': total_tests,\n",
        "            'test_details': test_details\n",
        "        }\n",
        "        \n",
        "        print(f\"Hit@{k}: {hit_rate:.3f} ({hits}/{total_tests})\")\n",
        "    \n",
        "    return results\n"
      ]
    },
    {
      "cell_type": "markdown",
      "metadata": {},
      "source": [
        "## 3. 평가 실행\n"
      ]
    },
    {
      "cell_type": "code",
      "execution_count": null,
      "metadata": {},
      "outputs": [],
      "source": [
        "# Leave-one-out 평가 실행\n",
        "k_values = [1, 3, 5, 10]\n",
        "evaluation_results = leave_one_out_evaluation(service, k_values)\n",
        "\n",
        "print(\"\\n=== 최종 평가 결과 ===\")\n",
        "for k in k_values:\n",
        "    result = evaluation_results[k]\n",
        "    print(f\"Hit@{k}: {result['hit_rate']:.3f} ({result['hits']}/{result['total_tests']})\")\n"
      ]
    }
  ],
  "metadata": {
    "language_info": {
      "name": "python"
    }
  },
  "nbformat": 4,
  "nbformat_minor": 2
}
